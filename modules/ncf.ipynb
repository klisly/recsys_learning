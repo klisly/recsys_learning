{
 "cells": [
  {
   "cell_type": "code",
   "execution_count": 1,
   "metadata": {},
   "outputs": [],
   "source": [
    "import numpy as np\n",
    "import logging\n",
    "import argparse\n",
    "import multiprocessing as mp\n",
    "from time import time\n",
    "from tensorflow.keras.layers import Dense, Flatten, Input, Embedding, Multiply, Concatenate\n",
    "from tensorflow.keras import Model, Sequential\n",
    "from tensorflow.keras.optimizers import Adam\n",
    "from tensorflow.keras.regularizers import l2\n",
    "import tensorflow as tf"
   ]
  },
  {
   "cell_type": "code",
   "execution_count": 9,
   "metadata": {},
   "outputs": [],
   "source": [
    "import numpy as np\n",
    "import pandas as pd\n",
    "import os\n",
    "import pickle"
   ]
  },
  {
   "cell_type": "code",
   "execution_count": 3,
   "metadata": {},
   "outputs": [],
   "source": [
    "\n",
    "def get_neumf_model(num_users, num_items, layers=[128, 64, 32, 16], reg=[\"l1\"]):\n",
    "    user_input = Input(shape=(1,), dtype=\"int32\", name=\"user_input\")\n",
    "    item_input = Input(shape=(1,), dtype=\"int32\", name=\"item_input\")\n",
    "\n",
    "    gmf_emb_user = Embedding(input_dim=num_users, output_dim=emb_dim,\n",
    "                             name=\"gmf_user_emb\", input_length=1)\n",
    "    gmf_emb_item = Embedding(input_dim=num_items, output_dim=emb_dim,\n",
    "                             name=\"gmf_item_emb\", input_length=1)\n",
    "    gmf_user_emb = Flatten()(gmf_emb_user(user_input))\n",
    "    gmf_item_emb = Flatten()(gmf_emb_item(item_input))\n",
    "    gmb_vector_layer = Multiply()([gmf_user_emb, gmf_item_emb])\n",
    "\n",
    "    mlp_emb_user = Embedding(input_dim=num_users, output_dim=int(layers[0] / 2),\n",
    "                             name=\"mlp_user_emb\", input_length=1)\n",
    "    mlp_emb_item = Embedding(input_dim=num_items, output_dim=int(layers[0] / 2),\n",
    "                             name=\"mlp_item_emb\", input_length=1)\n",
    "    mlp_user_emb = Flatten()(mlp_emb_user(user_input))\n",
    "    mlp_item_emb = Flatten()(mlp_emb_item(item_input))\n",
    "    mlp_vector_layer = Concatenate()([mlp_user_emb, mlp_item_emb])\n",
    "\n",
    "    for idx in range(1, len(layers)):\n",
    "        mlp_vector_layer = Dense(layers[idx], activation='relu', kernel_initializer=\"lecun_uniform\",\n",
    "                                 name=\"mlp_layer_\" + str(idx))(mlp_vector_layer)\n",
    "\n",
    "    predict_vector = Concatenate()([gmb_vector_layer, mlp_vector_layer])\n",
    "    prediction = Dense(1, activation='sigmoid', kernel_initializer='lecun_uniform', name='prediction')(predict_vector)\n",
    "    model = Model(inputs=[user_input, item_input],\n",
    "                  outputs=prediction)\n",
    "    return gmf_emb_user, gmf_emb_item, model\n"
   ]
  },
  {
   "cell_type": "code",
   "execution_count": 4,
   "metadata": {},
   "outputs": [],
   "source": [
    "num_users = 31568\n",
    "num_items = 9065\n",
    "emb_dim = 64\n",
    "user_emb, item_emb, model = get_neumf_model(num_users, num_items)"
   ]
  },
  {
   "cell_type": "code",
   "execution_count": 5,
   "metadata": {},
   "outputs": [],
   "source": [
    "model.load_weights(\"/Users/wizardholy/project/recsys_learning/Pretrain/info_gmf_64_[64,32,16,8]_1585834028.h5\")"
   ]
  },
  {
   "cell_type": "code",
   "execution_count": 6,
   "metadata": {},
   "outputs": [
    {
     "name": "stdout",
     "output_type": "stream",
     "text": [
      "<tensorflow.python.keras.layers.embeddings.Embedding object at 0x13ad66cc0>\n"
     ]
    }
   ],
   "source": [
    "print(model.get_layer(\"mlp_user_emb\"))"
   ]
  },
  {
   "cell_type": "code",
   "execution_count": 7,
   "metadata": {},
   "outputs": [],
   "source": [
    "embs = model.get_layer(\"mlp_user_emb\").embeddings.numpy()"
   ]
  },
  {
   "cell_type": "code",
   "execution_count": 10,
   "metadata": {},
   "outputs": [
    {
     "data": {
      "text/plain": [
       "array([[ 0.09206976,  0.09069787,  0.08962332, ..., -0.10332184,\n",
       "        -0.0477012 ,  0.03304849],\n",
       "       [ 0.11864064,  0.1795334 ,  0.14786634, ..., -0.14277941,\n",
       "         0.04744938,  0.01004081],\n",
       "       [ 0.0029698 ,  0.04394848,  0.1321151 , ..., -0.13439359,\n",
       "         0.01134982,  0.04418117],\n",
       "       ...,\n",
       "       [-0.12807289,  0.00266701, -0.03689078, ..., -0.10288961,\n",
       "         0.07840523,  0.08569863],\n",
       "       [ 0.12411491,  0.07306439,  0.11994545, ..., -0.14892985,\n",
       "        -0.11625966,  0.00325219],\n",
       "       [ 0.1462021 ,  0.11518549,  0.16165425, ..., -0.0591514 ,\n",
       "        -0.08591385,  0.02107427]], dtype=float32)"
      ]
     },
     "execution_count": 10,
     "metadata": {},
     "output_type": "execute_result"
    }
   ],
   "source": [
    "embs"
   ]
  },
  {
   "cell_type": "code",
   "execution_count": 12,
   "metadata": {},
   "outputs": [],
   "source": [
    "with open('/Users/wizardholy/project/recsys_learning/emb.pickle', 'wb') as f:\n",
    "    pickle.dump(embs, f)"
   ]
  },
  {
   "cell_type": "code",
   "execution_count": 89,
   "metadata": {},
   "outputs": [],
   "source": [
    "with open('/Users/wizardholy/project/recsys_learning/emb.pickle', 'rb') as f:\n",
    "    dt = pickle.load(f)"
   ]
  },
  {
   "cell_type": "code",
   "execution_count": 90,
   "metadata": {},
   "outputs": [
    {
     "data": {
      "text/plain": [
       "(31568, 64)"
      ]
     },
     "execution_count": 90,
     "metadata": {},
     "output_type": "execute_result"
    }
   ],
   "source": [
    "dt.shape"
   ]
  },
  {
   "cell_type": "code",
   "execution_count": 91,
   "metadata": {},
   "outputs": [],
   "source": [
    "def load_emb(file):\n",
    "    ret = list()\n",
    "    with open(file, encoding='utf8') as f:\n",
    "        for line in f:\n",
    "            line = line.strip()\n",
    "            if len(line) > 0:\n",
    "                ret.append([float(item) for item in line.split(\"\\t\")[1].split(\",\")])\n",
    "    return ret"
   ]
  },
  {
   "cell_type": "code",
   "execution_count": 92,
   "metadata": {},
   "outputs": [],
   "source": [
    "df = load_emb(\"/Users/wizardholy/project/recsys_learning/emb.txt\")"
   ]
  },
  {
   "cell_type": "code",
   "execution_count": 98,
   "metadata": {},
   "outputs": [],
   "source": [
    "df = np.array(df).astype('float32')"
   ]
  },
  {
   "cell_type": "code",
   "execution_count": 99,
   "metadata": {},
   "outputs": [
    {
     "data": {
      "text/plain": [
       "(65235, 64)"
      ]
     },
     "execution_count": 99,
     "metadata": {},
     "output_type": "execute_result"
    }
   ],
   "source": [
    "df.shape"
   ]
  },
  {
   "cell_type": "code",
   "execution_count": 100,
   "metadata": {},
   "outputs": [],
   "source": [
    "import faiss"
   ]
  },
  {
   "cell_type": "code",
   "execution_count": 101,
   "metadata": {},
   "outputs": [],
   "source": [
    "nlist = 100\n",
    "m = 8\n",
    "k = 4\n",
    "d = 64\n",
    "quantizer = faiss.IndexFlatL2(d)\n",
    "index = faiss.IndexIVFPQ(quantizer, d, nlist, m, 8)"
   ]
  },
  {
   "cell_type": "code",
   "execution_count": 102,
   "metadata": {},
   "outputs": [],
   "source": [
    "index.train(df)"
   ]
  },
  {
   "cell_type": "code",
   "execution_count": 103,
   "metadata": {},
   "outputs": [],
   "source": [
    "index.add(df)"
   ]
  },
  {
   "cell_type": "code",
   "execution_count": 105,
   "metadata": {},
   "outputs": [],
   "source": [
    "D, I = index.search(df, 50)      # 测试\n"
   ]
  },
  {
   "cell_type": "code",
   "execution_count": null,
   "metadata": {},
   "outputs": [],
   "source": []
  },
  {
   "cell_type": "code",
   "execution_count": 106,
   "metadata": {},
   "outputs": [
    {
     "data": {
      "text/plain": [
       "array([[0.1020731 , 0.37405637, 0.3976307 , ..., 0.5006512 , 0.5006513 ,\n",
       "        0.5024627 ],\n",
       "       [0.13507631, 0.44116896, 0.4582958 , ..., 0.5585234 , 0.5593968 ,\n",
       "        0.55991834],\n",
       "       [0.10411835, 0.32663786, 0.33381146, ..., 0.45915604, 0.46012306,\n",
       "        0.46013343],\n",
       "       ...,\n",
       "       [0.09046736, 0.3732167 , 0.3913887 , ..., 0.5122074 , 0.51235354,\n",
       "        0.5125258 ],\n",
       "       [0.11361209, 0.33789164, 0.35315442, ..., 0.48606217, 0.4866038 ,\n",
       "        0.4869817 ],\n",
       "       [0.11381584, 0.3970833 , 0.43579224, ..., 0.53934324, 0.541063  ,\n",
       "        0.5428909 ]], dtype=float32)"
      ]
     },
     "execution_count": 106,
     "metadata": {},
     "output_type": "execute_result"
    }
   ],
   "source": [
    "D"
   ]
  },
  {
   "cell_type": "code",
   "execution_count": 109,
   "metadata": {},
   "outputs": [],
   "source": [
    "sim = I.tolist()"
   ]
  },
  {
   "cell_type": "code",
   "execution_count": 111,
   "metadata": {},
   "outputs": [
    {
     "data": {
      "text/plain": [
       "50"
      ]
     },
     "execution_count": 111,
     "metadata": {},
     "output_type": "execute_result"
    }
   ],
   "source": [
    "len(sim[0])"
   ]
  },
  {
   "cell_type": "code",
   "execution_count": 120,
   "metadata": {},
   "outputs": [],
   "source": [
    "sim = I.tolist()\n",
    "weights = D.tolist()"
   ]
  },
  {
   "cell_type": "code",
   "execution_count": 115,
   "metadata": {},
   "outputs": [],
   "source": [
    "def load_uid_map(file):\n",
    "    ret = dict()\n",
    "    with open(file, encoding='utf8') as f:\n",
    "        for line in f:\n",
    "            line = line.strip()\n",
    "            if len(line) > 0:\n",
    "                ps = line.split(\"\\t\")\n",
    "                ret[int(ps[1])] = ps[0]\n",
    "    return ret"
   ]
  },
  {
   "cell_type": "code",
   "execution_count": 116,
   "metadata": {},
   "outputs": [],
   "source": [
    "uid_map = load_uid_map(\"/Users/wizardholy/project/recsys_learning/datas/info/info.uid.map.txt\")\n"
   ]
  },
  {
   "cell_type": "code",
   "execution_count": 121,
   "metadata": {},
   "outputs": [
    {
     "ename": "KeyError",
     "evalue": "61852",
     "output_type": "error",
     "traceback": [
      "\u001b[0;31m---------------------------------------------------------------------------\u001b[0m",
      "\u001b[0;31mKeyError\u001b[0m                                  Traceback (most recent call last)",
      "\u001b[0;32m<ipython-input-121-d8e5712118aa>\u001b[0m in \u001b[0;36m<module>\u001b[0;34m\u001b[0m\n\u001b[1;32m      4\u001b[0m         \u001b[0mouts\u001b[0m \u001b[0;34m=\u001b[0m \u001b[0;34m[\u001b[0m\u001b[0;34m]\u001b[0m\u001b[0;34m\u001b[0m\u001b[0m\n\u001b[1;32m      5\u001b[0m         \u001b[0;32mfor\u001b[0m \u001b[0mj\u001b[0m \u001b[0;32min\u001b[0m \u001b[0mrange\u001b[0m\u001b[0;34m(\u001b[0m\u001b[0;36m1\u001b[0m\u001b[0;34m,\u001b[0m \u001b[0mlen\u001b[0m\u001b[0;34m(\u001b[0m\u001b[0msim\u001b[0m\u001b[0;34m[\u001b[0m\u001b[0mi\u001b[0m\u001b[0;34m]\u001b[0m\u001b[0;34m)\u001b[0m\u001b[0;34m)\u001b[0m\u001b[0;34m:\u001b[0m\u001b[0;34m\u001b[0m\u001b[0m\n\u001b[0;32m----> 6\u001b[0;31m             \u001b[0msuid\u001b[0m \u001b[0;34m=\u001b[0m \u001b[0muid_map\u001b[0m\u001b[0;34m[\u001b[0m\u001b[0msim\u001b[0m\u001b[0;34m[\u001b[0m\u001b[0mi\u001b[0m\u001b[0;34m]\u001b[0m\u001b[0;34m[\u001b[0m\u001b[0mj\u001b[0m\u001b[0;34m]\u001b[0m\u001b[0;34m]\u001b[0m\u001b[0;34m\u001b[0m\u001b[0m\n\u001b[0m\u001b[1;32m      7\u001b[0m             \u001b[0mweight\u001b[0m \u001b[0;34m=\u001b[0m \u001b[0mweights\u001b[0m\u001b[0;34m[\u001b[0m\u001b[0mi\u001b[0m\u001b[0;34m]\u001b[0m\u001b[0;34m[\u001b[0m\u001b[0mj\u001b[0m\u001b[0;34m]\u001b[0m\u001b[0;34m\u001b[0m\u001b[0m\n\u001b[1;32m      8\u001b[0m             \u001b[0mouts\u001b[0m\u001b[0;34m.\u001b[0m\u001b[0mappend\u001b[0m\u001b[0;34m(\u001b[0m\u001b[0;34m\"\"\u001b[0m \u001b[0;34m+\u001b[0m \u001b[0msuid\u001b[0m \u001b[0;34m+\u001b[0m \u001b[0;34m\"#\"\u001b[0m \u001b[0;34m+\u001b[0m \u001b[0mstr\u001b[0m\u001b[0;34m(\u001b[0m\u001b[0mweight\u001b[0m\u001b[0;34m)\u001b[0m\u001b[0;34m)\u001b[0m\u001b[0;34m\u001b[0m\u001b[0m\n",
      "\u001b[0;31mKeyError\u001b[0m: 61852"
     ]
    }
   ],
   "source": [
    "with open(\"/Users/wizardholy/project/recsys_learning/sim_user.txt\", mode=\"w\") as f:\n",
    "    for i in range(10):\n",
    "        uid = uid_map[i]\n",
    "        outs = []\n",
    "        for j in range(1, len(sim[i])):\n",
    "            suid = uid_map[sim[i][j]]\n",
    "            weight = weights[i][j]\n",
    "            outs.append(\"\" + suid + \"#\" + str(weight))\n",
    "        f.write(uid+\" \"+(\",\".join(outs))+\"\\n\")\n",
    "    "
   ]
  },
  {
   "cell_type": "code",
   "execution_count": null,
   "metadata": {},
   "outputs": [],
   "source": []
  }
 ],
 "metadata": {
  "kernelspec": {
   "display_name": "Python 3",
   "language": "python",
   "name": "python3"
  },
  "language_info": {
   "codemirror_mode": {
    "name": "ipython",
    "version": 3
   },
   "file_extension": ".py",
   "mimetype": "text/x-python",
   "name": "python",
   "nbconvert_exporter": "python",
   "pygments_lexer": "ipython3",
   "version": "3.6.5"
  }
 },
 "nbformat": 4,
 "nbformat_minor": 4
}
